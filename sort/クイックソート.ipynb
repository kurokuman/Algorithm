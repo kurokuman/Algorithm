{
 "cells": [
  {
   "cell_type": "code",
   "execution_count": 4,
   "metadata": {},
   "outputs": [],
   "source": [
    "def quicj_sort(startID, endID, num):\n",
    "    \n",
    "    pivot = num[int((startID + endID) / 2)]\n",
    "    \n",
    "    left = startID\n",
    "    right = endID\n",
    "    \n",
    "    while True:\n",
    "        \n",
    "        while(num[left] < pivot):\n",
    "            left += 1\n",
    "        while(num[right] > pivot):\n",
    "            right -= 1\n",
    "        \n",
    "        if right <= left:\n",
    "            break\n",
    "        tmp = num[left]\n",
    "        num[left] = num[right]\n",
    "        num[right] = tmp\n",
    "        \n",
    "        left += 1\n",
    "        right -= 1\n",
    "        \n",
    "    if startID < (left-1):\n",
    "        quicj_sort(startID, left-1, num)\n",
    "    if (right+1 < endID):\n",
    "        quicj_sort(right+1, endID, num)\n",
    "    \n",
    "    return num"
   ]
  },
  {
   "cell_type": "code",
   "execution_count": 5,
   "metadata": {},
   "outputs": [
    {
     "name": "stdout",
     "output_type": "stream",
     "text": [
      "[15, 10, 12, 1, 0, 45, 8, 45, 68, 8, 9, 4, 2, 77, 9, 9]\n",
      "[0, 1, 2, 4, 8, 8, 9, 9, 9, 10, 12, 15, 45, 45, 68, 77]\n"
     ]
    }
   ],
   "source": [
    "num = [15,10,12,1,0,45,8,45,68,8,9,4,2,77,9,9]\n",
    "print(num)\n",
    "sorted_num = quicj_sort(0,len(num)-1,num)\n",
    "print(sorted_num)"
   ]
  },
  {
   "cell_type": "code",
   "execution_count": null,
   "metadata": {},
   "outputs": [],
   "source": []
  },
  {
   "cell_type": "code",
   "execution_count": null,
   "metadata": {},
   "outputs": [],
   "source": []
  }
 ],
 "metadata": {
  "kernelspec": {
   "display_name": "Python 3",
   "language": "python",
   "name": "python3"
  },
  "language_info": {
   "codemirror_mode": {
    "name": "ipython",
    "version": 3
   },
   "file_extension": ".py",
   "mimetype": "text/x-python",
   "name": "python",
   "nbconvert_exporter": "python",
   "pygments_lexer": "ipython3",
   "version": "3.6.5"
  }
 },
 "nbformat": 4,
 "nbformat_minor": 2
}
