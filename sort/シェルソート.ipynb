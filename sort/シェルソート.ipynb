{
 "cells": [
  {
   "cell_type": "code",
   "execution_count": 5,
   "metadata": {},
   "outputs": [],
   "source": [
    "def shell_sort(num):\n",
    "    step = len(num) // 2\n",
    "\n",
    "    while step > 0:\n",
    "        print(\"step\",step)\n",
    "        for i in range(step, len(num)):\n",
    "            tmp = num[i]\n",
    "            for j in range(i,-1,-step):\n",
    "                if num[j - step] > tmp:\n",
    "                    num[j] = num[j-step]\n",
    "                else:\n",
    "                    break\n",
    "                    \n",
    "            num[j] = tmp\n",
    "        step //= 2\n",
    "    return num"
   ]
  },
  {
   "cell_type": "code",
   "execution_count": 7,
   "metadata": {},
   "outputs": [
    {
     "name": "stdout",
     "output_type": "stream",
     "text": [
      "[10, 5, 8, 6, 12, 45, 78, 54, 5, 9, 15, 45, 60]\n",
      "step 6\n",
      "step 3\n",
      "step 1\n",
      "[5, 5, 6, 8, 9, 10, 12, 15, 45, 45, 54, 60, 78]\n"
     ]
    }
   ],
   "source": [
    "num = [10,5,8,6,12,45,78,54,5,9,15,45,60]\n",
    "print(num)\n",
    "sorted_num = shell_sort(num)\n",
    "print(sorted_num)"
   ]
  },
  {
   "cell_type": "code",
   "execution_count": null,
   "metadata": {},
   "outputs": [],
   "source": []
  },
  {
   "cell_type": "code",
   "execution_count": null,
   "metadata": {},
   "outputs": [],
   "source": []
  }
 ],
 "metadata": {
  "kernelspec": {
   "display_name": "Python 3",
   "language": "python",
   "name": "python3"
  },
  "language_info": {
   "codemirror_mode": {
    "name": "ipython",
    "version": 3
   },
   "file_extension": ".py",
   "mimetype": "text/x-python",
   "name": "python",
   "nbconvert_exporter": "python",
   "pygments_lexer": "ipython3",
   "version": "3.6.5"
  }
 },
 "nbformat": 4,
 "nbformat_minor": 2
}
