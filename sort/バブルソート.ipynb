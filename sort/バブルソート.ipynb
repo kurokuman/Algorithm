{
 "cells": [
  {
   "cell_type": "code",
   "execution_count": 3,
   "metadata": {},
   "outputs": [],
   "source": [
    "def bubble_sort(num):\n",
    "    for i in range(len(num)-1,0,-1):\n",
    "        for j in range(i):\n",
    "            if num[j] > num[j+1]:\n",
    "                tmp = num[j]\n",
    "                num[j] = num[j+1]\n",
    "                num[j+1] = tmp\n",
    "        print(\"sort途中経過・・・{}\".format(num))\n",
    "    return num"
   ]
  },
  {
   "cell_type": "code",
   "execution_count": 4,
   "metadata": {},
   "outputs": [
    {
     "name": "stdout",
     "output_type": "stream",
     "text": [
      "num・・・ [5, 2, 4, 6, 3, 15, 9, 0, 5]\n",
      "sort途中経過・・・[2, 4, 5, 3, 6, 9, 0, 5, 15]\n",
      "sort途中経過・・・[2, 4, 3, 5, 6, 0, 5, 9, 15]\n",
      "sort途中経過・・・[2, 3, 4, 5, 0, 5, 6, 9, 15]\n",
      "sort途中経過・・・[2, 3, 4, 0, 5, 5, 6, 9, 15]\n",
      "sort途中経過・・・[2, 3, 0, 4, 5, 5, 6, 9, 15]\n",
      "sort途中経過・・・[2, 0, 3, 4, 5, 5, 6, 9, 15]\n",
      "sort途中経過・・・[0, 2, 3, 4, 5, 5, 6, 9, 15]\n",
      "sort途中経過・・・[0, 2, 3, 4, 5, 5, 6, 9, 15]\n",
      "sorted_num・・・ [0, 2, 3, 4, 5, 5, 6, 9, 15]\n"
     ]
    }
   ],
   "source": [
    "num = [5,2,4,6,3,15,9,0,5]\n",
    "print(\"num・・・\",num)\n",
    "sorted_num = bubble_sort(num.copy())\n",
    "print(\"sorted_num・・・\",sorted_num)"
   ]
  },
  {
   "cell_type": "code",
   "execution_count": null,
   "metadata": {},
   "outputs": [],
   "source": []
  }
 ],
 "metadata": {
  "kernelspec": {
   "display_name": "Python 3",
   "language": "python",
   "name": "python3"
  },
  "language_info": {
   "codemirror_mode": {
    "name": "ipython",
    "version": 3
   },
   "file_extension": ".py",
   "mimetype": "text/x-python",
   "name": "python",
   "nbconvert_exporter": "python",
   "pygments_lexer": "ipython3",
   "version": "3.6.5"
  }
 },
 "nbformat": 4,
 "nbformat_minor": 2
}
