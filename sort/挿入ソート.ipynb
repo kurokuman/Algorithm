{
 "cells": [
  {
   "cell_type": "code",
   "execution_count": 1,
   "metadata": {},
   "outputs": [],
   "source": [
    "def Insertion_sort(num):\n",
    "    for i in range(1,len(num)):\n",
    "        tmp = num[i]\n",
    "        ins=0\n",
    "        for j in range(i-1,-1,-1):\n",
    "            if num[j] > tmp:\n",
    "                num[j+1] = num[j]\n",
    "            else:\n",
    "                ins = j + 1\n",
    "                break\n",
    "        num[ins] = tmp\n",
    "    return num"
   ]
  },
  {
   "cell_type": "code",
   "execution_count": 4,
   "metadata": {},
   "outputs": [
    {
     "name": "stdout",
     "output_type": "stream",
     "text": [
      "[7, 6, 50, 1, 2, 9, 55, 5, 2, 15]\n",
      "[1, 2, 2, 5, 6, 7, 9, 15, 50, 55]\n"
     ]
    }
   ],
   "source": [
    "num = [7,6,50,1,2,9,55,5,2,15]\n",
    "print(num)\n",
    "sorted_num = Insertion_sort(num)\n",
    "print(sorted_num)"
   ]
  },
  {
   "cell_type": "code",
   "execution_count": null,
   "metadata": {},
   "outputs": [],
   "source": []
  }
 ],
 "metadata": {
  "kernelspec": {
   "display_name": "Python 3",
   "language": "python",
   "name": "python3"
  },
  "language_info": {
   "codemirror_mode": {
    "name": "ipython",
    "version": 3
   },
   "file_extension": ".py",
   "mimetype": "text/x-python",
   "name": "python",
   "nbconvert_exporter": "python",
   "pygments_lexer": "ipython3",
   "version": "3.6.5"
  }
 },
 "nbformat": 4,
 "nbformat_minor": 2
}
