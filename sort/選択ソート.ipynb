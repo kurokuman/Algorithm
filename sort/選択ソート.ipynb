{
 "cells": [
  {
   "cell_type": "code",
   "execution_count": 7,
   "metadata": {},
   "outputs": [],
   "source": [
    "def selection_sort(num):\n",
    "    for i in range(len(num)-1):\n",
    "        mini, index = num[i], i\n",
    "        \n",
    "        for j in range(i+1,len(num)):\n",
    "            if mini > num[j]:\n",
    "                mini, index = num[j], j\n",
    "                \n",
    "        tmp, num[i] = num[i], mini\n",
    "        num[index] = tmp\n",
    "        print(num)\n",
    "    return num"
   ]
  },
  {
   "cell_type": "code",
   "execution_count": 8,
   "metadata": {},
   "outputs": [
    {
     "name": "stdout",
     "output_type": "stream",
     "text": [
      "[5, 23, 4, 8, 6, 10, 9, 7, 0]\n",
      "[0, 23, 4, 8, 6, 10, 9, 7, 5]\n",
      "[0, 4, 23, 8, 6, 10, 9, 7, 5]\n",
      "[0, 4, 5, 8, 6, 10, 9, 7, 23]\n",
      "[0, 4, 5, 6, 8, 10, 9, 7, 23]\n",
      "[0, 4, 5, 6, 7, 10, 9, 8, 23]\n",
      "[0, 4, 5, 6, 7, 8, 9, 10, 23]\n",
      "[0, 4, 5, 6, 7, 8, 9, 10, 23]\n",
      "[0, 4, 5, 6, 7, 8, 9, 10, 23]\n"
     ]
    },
    {
     "data": {
      "text/plain": [
       "[0, 4, 5, 6, 7, 8, 9, 10, 23]"
      ]
     },
     "execution_count": 8,
     "metadata": {},
     "output_type": "execute_result"
    }
   ],
   "source": [
    "num = [5,23,4,8,6,10,9,7,0]\n",
    "print(num)\n",
    "selection_sort(num)"
   ]
  },
  {
   "cell_type": "code",
   "execution_count": 5,
   "metadata": {},
   "outputs": [],
   "source": []
  },
  {
   "cell_type": "code",
   "execution_count": null,
   "metadata": {},
   "outputs": [],
   "source": []
  }
 ],
 "metadata": {
  "kernelspec": {
   "display_name": "Python 3",
   "language": "python",
   "name": "python3"
  },
  "language_info": {
   "codemirror_mode": {
    "name": "ipython",
    "version": 3
   },
   "file_extension": ".py",
   "mimetype": "text/x-python",
   "name": "python",
   "nbconvert_exporter": "python",
   "pygments_lexer": "ipython3",
   "version": "3.6.5"
  }
 },
 "nbformat": 4,
 "nbformat_minor": 2
}
