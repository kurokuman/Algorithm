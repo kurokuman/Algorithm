{
 "cells": [
  {
   "cell_type": "code",
   "execution_count": 3,
   "metadata": {},
   "outputs": [],
   "source": [
    "def Euclidean(x,y):\n",
    "    tmp = max(x,y)\n",
    "    y = min(x,y)\n",
    "    x = tmp\n",
    "    z = x % y\n",
    "    if z !=0:\n",
    "        Euclidean(y,z)\n",
    "    else:\n",
    "        print(\"最大公約数 =\", y)\n",
    "        return y"
   ]
  },
  {
   "cell_type": "code",
   "execution_count": 6,
   "metadata": {},
   "outputs": [
    {
     "name": "stdout",
     "output_type": "stream",
     "text": [
      "任意の自然数を入力(1/2)99\n",
      "任意の自然数を入力(2/2)33\n",
      "最大公約数 = 33\n"
     ]
    }
   ],
   "source": [
    "x = int(input(\"任意の自然数を入力(1/2)\"))\n",
    "y = int(input(\"任意の自然数を入力(2/2)\"))\n",
    "num = Euclidean(x,y)"
   ]
  },
  {
   "cell_type": "code",
   "execution_count": 7,
   "metadata": {},
   "outputs": [
    {
     "name": "stdout",
     "output_type": "stream",
     "text": [
      "任意の自然数を入力(1/2)99\n",
      "任意の自然数を入力(2/2)2\n",
      "最大公約数 = 1\n"
     ]
    }
   ],
   "source": [
    "x = int(input(\"任意の自然数を入力(1/2)\"))\n",
    "y = int(input(\"任意の自然数を入力(2/2)\"))\n",
    "num = Euclidean(x,y)"
   ]
  }
 ],
 "metadata": {
  "kernelspec": {
   "display_name": "Python 3",
   "language": "python",
   "name": "python3"
  },
  "language_info": {
   "codemirror_mode": {
    "name": "ipython",
    "version": 3
   },
   "file_extension": ".py",
   "mimetype": "text/x-python",
   "name": "python",
   "nbconvert_exporter": "python",
   "pygments_lexer": "ipython3",
   "version": "3.6.5"
  }
 },
 "nbformat": 4,
 "nbformat_minor": 2
}
